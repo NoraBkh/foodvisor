{
 "cells": [
  {
   "cell_type": "code",
   "execution_count": 303,
   "metadata": {},
   "outputs": [],
   "source": [
    "from collections import defaultdict\n",
    "from database import Database"
   ]
  },
  {
   "cell_type": "markdown",
   "metadata": {},
   "source": [
    "# First test"
   ]
  },
  {
   "cell_type": "code",
   "execution_count": 306,
   "metadata": {
    "scrolled": true
   },
   "outputs": [
    {
     "name": "stdout",
     "output_type": "stream",
     "text": [
      "{'img001': 'granularity_staged', 'img002': 'valid'}\n"
     ]
    }
   ],
   "source": [
    "# Initial graph\n",
    "build = [(\"core\", None), (\"A\", \"core\"), (\"B\", \"core\"), (\"C\", \"core\"), (\"C1\", \"C\")]\n",
    "# Extract\n",
    "extract = {\"img001\": [\"A\"], \"img002\": [\"C1\"]}\n",
    "# Graph edits\n",
    "edits = [(\"A1\", \"A\"), (\"A2\", \"A\")]\n",
    "\n",
    "# Get status (this is only an example, test your code as you please as long as it works)\n",
    "status = {}\n",
    "if len(build) > 0:\n",
    "    # Build graph\n",
    "    db = Database(build[0][0])\n",
    "    if len(build) > 1:\n",
    "        db.add_nodes(build[1:])\n",
    "    # Add extract\n",
    "    db.add_extract(extract)\n",
    "    # Graph edits\n",
    "    db.add_nodes(edits)\n",
    "    # Update status\n",
    "    status = db.get_extract_status()\n",
    "print(status)"
   ]
  },
  {
   "cell_type": "markdown",
   "metadata": {},
   "source": [
    "# Second test"
   ]
  },
  {
   "cell_type": "code",
   "execution_count": 307,
   "metadata": {},
   "outputs": [
    {
     "name": "stdout",
     "output_type": "stream",
     "text": [
      "{'img001': 'granularity_staged', 'img002': 'coverage_staged', 'img003': 'invalid'}\n"
     ]
    }
   ],
   "source": [
    "# Initial graph\n",
    "build = [(\"core\", None), (\"A\", \"core\"), (\"B\", \"core\"), (\"C\", \"core\"), (\"C1\", \"C\")]\n",
    "# Extract\n",
    "extract = {\"img001\": [\"A\", \"B\"], \"img002\": [\"A\", \"C1\"], \"img003\": [\"B\", \"E\"]}\n",
    "# Graph edits\n",
    "edits = [(\"A1\", \"A\"), (\"A2\", \"A\"), (\"C2\", \"C\")]\n",
    "\n",
    "# Get status (this is only an example, test your code as you please as long as it works)\n",
    "status = {}\n",
    "if len(build) > 0:\n",
    "    # Build graph\n",
    "    db = Database(build[0][0])\n",
    "    if len(build) > 1:\n",
    "        db.add_nodes(build[1:])\n",
    "    # Add extract\n",
    "    db.add_extract(extract)\n",
    "    # Graph edits\n",
    "    db.add_nodes(edits)\n",
    "    # Update status\n",
    "    status = db.get_extract_status()\n",
    "print(status)"
   ]
  }
 ],
 "metadata": {
  "kernelspec": {
   "display_name": "Python 3",
   "language": "python",
   "name": "python3"
  },
  "language_info": {
   "codemirror_mode": {
    "name": "ipython",
    "version": 3
   },
   "file_extension": ".py",
   "mimetype": "text/x-python",
   "name": "python",
   "nbconvert_exporter": "python",
   "pygments_lexer": "ipython3",
   "version": "3.7.4"
  }
 },
 "nbformat": 4,
 "nbformat_minor": 2
}
